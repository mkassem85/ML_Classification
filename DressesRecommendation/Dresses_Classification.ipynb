{
 "cells": [
  {
   "cell_type": "markdown",
   "id": "51afb581",
   "metadata": {},
   "source": [
    "The aim of this project to make a classification of dresses recommendation bases on several attributes.\n",
    "The dataset is downloaded from UCI from the following link:\n",
    "https://archive.ics.uci.edu/ml/machine-learning-databases/00289/"
   ]
  },
  {
   "cell_type": "code",
   "execution_count": 1,
   "id": "1d133b51",
   "metadata": {},
   "outputs": [],
   "source": [
    "import numpy as np\n",
    "import pandas as pd\n",
    "df = pd.read_excel(\"Attribute DataSet.xlsx\")"
   ]
  },
  {
   "cell_type": "code",
   "execution_count": 2,
   "id": "f4e63b9d",
   "metadata": {},
   "outputs": [
    {
     "data": {
      "text/html": [
       "<div>\n",
       "<style scoped>\n",
       "    .dataframe tbody tr th:only-of-type {\n",
       "        vertical-align: middle;\n",
       "    }\n",
       "\n",
       "    .dataframe tbody tr th {\n",
       "        vertical-align: top;\n",
       "    }\n",
       "\n",
       "    .dataframe thead th {\n",
       "        text-align: right;\n",
       "    }\n",
       "</style>\n",
       "<table border=\"1\" class=\"dataframe\">\n",
       "  <thead>\n",
       "    <tr style=\"text-align: right;\">\n",
       "      <th></th>\n",
       "      <th>Dress_ID</th>\n",
       "      <th>Style</th>\n",
       "      <th>Price</th>\n",
       "      <th>Rating</th>\n",
       "      <th>Size</th>\n",
       "      <th>Season</th>\n",
       "      <th>NeckLine</th>\n",
       "      <th>SleeveLength</th>\n",
       "      <th>waiseline</th>\n",
       "      <th>Material</th>\n",
       "      <th>FabricType</th>\n",
       "      <th>Decoration</th>\n",
       "      <th>Pattern Type</th>\n",
       "      <th>Recommendation</th>\n",
       "    </tr>\n",
       "  </thead>\n",
       "  <tbody>\n",
       "    <tr>\n",
       "      <th>0</th>\n",
       "      <td>1006032852</td>\n",
       "      <td>Sexy</td>\n",
       "      <td>Low</td>\n",
       "      <td>4.6</td>\n",
       "      <td>M</td>\n",
       "      <td>Summer</td>\n",
       "      <td>o-neck</td>\n",
       "      <td>sleevless</td>\n",
       "      <td>empire</td>\n",
       "      <td>NaN</td>\n",
       "      <td>chiffon</td>\n",
       "      <td>ruffles</td>\n",
       "      <td>animal</td>\n",
       "      <td>1</td>\n",
       "    </tr>\n",
       "    <tr>\n",
       "      <th>1</th>\n",
       "      <td>1212192089</td>\n",
       "      <td>Casual</td>\n",
       "      <td>Low</td>\n",
       "      <td>0.0</td>\n",
       "      <td>L</td>\n",
       "      <td>Summer</td>\n",
       "      <td>o-neck</td>\n",
       "      <td>Petal</td>\n",
       "      <td>natural</td>\n",
       "      <td>microfiber</td>\n",
       "      <td>NaN</td>\n",
       "      <td>ruffles</td>\n",
       "      <td>animal</td>\n",
       "      <td>0</td>\n",
       "    </tr>\n",
       "    <tr>\n",
       "      <th>2</th>\n",
       "      <td>1190380701</td>\n",
       "      <td>vintage</td>\n",
       "      <td>High</td>\n",
       "      <td>0.0</td>\n",
       "      <td>L</td>\n",
       "      <td>Automn</td>\n",
       "      <td>o-neck</td>\n",
       "      <td>full</td>\n",
       "      <td>natural</td>\n",
       "      <td>polyster</td>\n",
       "      <td>NaN</td>\n",
       "      <td>NaN</td>\n",
       "      <td>print</td>\n",
       "      <td>0</td>\n",
       "    </tr>\n",
       "    <tr>\n",
       "      <th>3</th>\n",
       "      <td>966005983</td>\n",
       "      <td>Brief</td>\n",
       "      <td>Average</td>\n",
       "      <td>4.6</td>\n",
       "      <td>L</td>\n",
       "      <td>Spring</td>\n",
       "      <td>o-neck</td>\n",
       "      <td>full</td>\n",
       "      <td>natural</td>\n",
       "      <td>silk</td>\n",
       "      <td>chiffon</td>\n",
       "      <td>embroidary</td>\n",
       "      <td>print</td>\n",
       "      <td>1</td>\n",
       "    </tr>\n",
       "    <tr>\n",
       "      <th>4</th>\n",
       "      <td>876339541</td>\n",
       "      <td>cute</td>\n",
       "      <td>Low</td>\n",
       "      <td>4.5</td>\n",
       "      <td>M</td>\n",
       "      <td>Summer</td>\n",
       "      <td>o-neck</td>\n",
       "      <td>butterfly</td>\n",
       "      <td>natural</td>\n",
       "      <td>chiffonfabric</td>\n",
       "      <td>chiffon</td>\n",
       "      <td>bow</td>\n",
       "      <td>dot</td>\n",
       "      <td>0</td>\n",
       "    </tr>\n",
       "  </tbody>\n",
       "</table>\n",
       "</div>"
      ],
      "text/plain": [
       "     Dress_ID    Style    Price  Rating Size  Season NeckLine SleeveLength  \\\n",
       "0  1006032852     Sexy      Low     4.6    M  Summer   o-neck    sleevless   \n",
       "1  1212192089   Casual      Low     0.0    L  Summer   o-neck        Petal   \n",
       "2  1190380701  vintage     High     0.0    L  Automn   o-neck         full   \n",
       "3   966005983    Brief  Average     4.6    L  Spring   o-neck         full   \n",
       "4   876339541     cute      Low     4.5    M  Summer   o-neck    butterfly   \n",
       "\n",
       "  waiseline       Material FabricType  Decoration Pattern Type  Recommendation  \n",
       "0    empire            NaN    chiffon     ruffles       animal               1  \n",
       "1   natural     microfiber        NaN     ruffles       animal               0  \n",
       "2   natural       polyster        NaN         NaN        print               0  \n",
       "3   natural           silk    chiffon  embroidary        print               1  \n",
       "4   natural  chiffonfabric    chiffon         bow          dot               0  "
      ]
     },
     "execution_count": 2,
     "metadata": {},
     "output_type": "execute_result"
    }
   ],
   "source": [
    "#Display first rows of the dataset\n",
    "df.head()"
   ]
  },
  {
   "cell_type": "code",
   "execution_count": 3,
   "id": "49828fb3",
   "metadata": {},
   "outputs": [
    {
     "name": "stdout",
     "output_type": "stream",
     "text": [
      "<class 'pandas.core.frame.DataFrame'>\n",
      "RangeIndex: 500 entries, 0 to 499\n",
      "Data columns (total 14 columns):\n",
      " #   Column          Non-Null Count  Dtype  \n",
      "---  ------          --------------  -----  \n",
      " 0   Dress_ID        500 non-null    int64  \n",
      " 1   Style           500 non-null    object \n",
      " 2   Price           498 non-null    object \n",
      " 3   Rating          500 non-null    float64\n",
      " 4   Size            500 non-null    object \n",
      " 5   Season          498 non-null    object \n",
      " 6   NeckLine        497 non-null    object \n",
      " 7   SleeveLength    498 non-null    object \n",
      " 8   waiseline       413 non-null    object \n",
      " 9   Material        372 non-null    object \n",
      " 10  FabricType      234 non-null    object \n",
      " 11  Decoration      264 non-null    object \n",
      " 12  Pattern Type    391 non-null    object \n",
      " 13  Recommendation  500 non-null    int64  \n",
      "dtypes: float64(1), int64(2), object(11)\n",
      "memory usage: 54.8+ KB\n"
     ]
    }
   ],
   "source": [
    "#Display dataset information\n",
    "df.info()"
   ]
  },
  {
   "cell_type": "markdown",
   "id": "e373654d",
   "metadata": {},
   "source": [
    "As we can see from the data information the data set has a null values form approximately half of the attributes. Let's discover the data in more details, first let's drop Dress_ID attribute as it's not affecting our classification problem.\n"
   ]
  },
  {
   "cell_type": "code",
   "execution_count": 4,
   "id": "1f5e3edc",
   "metadata": {},
   "outputs": [],
   "source": [
    "df = df.drop(\"Dress_ID\", axis=1)"
   ]
  },
  {
   "cell_type": "code",
   "execution_count": 5,
   "id": "ce40e13d",
   "metadata": {},
   "outputs": [
    {
     "data": {
      "text/plain": [
       "0    290\n",
       "1    210\n",
       "Name: Recommendation, dtype: int64"
      ]
     },
     "execution_count": 5,
     "metadata": {},
     "output_type": "execute_result"
    }
   ],
   "source": [
    "df[\"Recommendation\"].value_counts()"
   ]
  },
  {
   "cell_type": "markdown",
   "id": "24b4dc91",
   "metadata": {},
   "source": [
    "Seems the Recommendation is in a good balance so there is not need to do any more modifcation to our target.\n",
    "Let's explore more the attributes"
   ]
  },
  {
   "cell_type": "code",
   "execution_count": 6,
   "id": "e7d91516",
   "metadata": {},
   "outputs": [
    {
     "data": {
      "text/plain": [
       "Casual      232\n",
       "Sexy         69\n",
       "party        51\n",
       "cute         45\n",
       "vintage      25\n",
       "bohemian     24\n",
       "Brief        18\n",
       "work         17\n",
       "Novelty       8\n",
       "sexy          7\n",
       "Flare         2\n",
       "OL            1\n",
       "fashion       1\n",
       "Name: Style, dtype: int64"
      ]
     },
     "execution_count": 6,
     "metadata": {},
     "output_type": "execute_result"
    }
   ],
   "source": [
    "df[\"Style\"].value_counts()"
   ]
  },
  {
   "cell_type": "markdown",
   "id": "54af4458",
   "metadata": {},
   "source": [
    "The data above have will require some cleaning as the Sexy and sexy are teh same, also there are some values occur rarley we can see after how we will deal them."
   ]
  },
  {
   "cell_type": "code",
   "execution_count": 7,
   "id": "0004014c",
   "metadata": {},
   "outputs": [
    {
     "data": {
      "text/plain": [
       "summer    160\n",
       "winter    145\n",
       "spring    124\n",
       "automn     61\n",
       "autumn      8\n",
       "Name: Season, dtype: int64"
      ]
     },
     "execution_count": 7,
     "metadata": {},
     "output_type": "execute_result"
    }
   ],
   "source": [
    "#Select the object data and make all value in lower case\n",
    "from sklearn.compose import make_column_selector as selector\n",
    "categorical_selector = selector(dtype_include=object)\n",
    "categorial_columns = categorical_selector(df)\n",
    "df[categorial_columns] = df[categorial_columns].apply(lambda x: x.str.lower(), axis=0)\n",
    "df[\"Season\"].value_counts()"
   ]
  },
  {
   "cell_type": "code",
   "execution_count": 8,
   "id": "ed99f95a",
   "metadata": {},
   "outputs": [
    {
     "data": {
      "text/html": [
       "<div>\n",
       "<style scoped>\n",
       "    .dataframe tbody tr th:only-of-type {\n",
       "        vertical-align: middle;\n",
       "    }\n",
       "\n",
       "    .dataframe tbody tr th {\n",
       "        vertical-align: top;\n",
       "    }\n",
       "\n",
       "    .dataframe thead th {\n",
       "        text-align: right;\n",
       "    }\n",
       "</style>\n",
       "<table border=\"1\" class=\"dataframe\">\n",
       "  <thead>\n",
       "    <tr style=\"text-align: right;\">\n",
       "      <th></th>\n",
       "      <th>Style</th>\n",
       "      <th>Price</th>\n",
       "      <th>Rating</th>\n",
       "      <th>Size</th>\n",
       "      <th>Season</th>\n",
       "      <th>NeckLine</th>\n",
       "      <th>SleeveLength</th>\n",
       "      <th>waiseline</th>\n",
       "      <th>Material</th>\n",
       "      <th>FabricType</th>\n",
       "      <th>Decoration</th>\n",
       "      <th>Pattern Type</th>\n",
       "      <th>Recommendation</th>\n",
       "    </tr>\n",
       "  </thead>\n",
       "  <tbody>\n",
       "    <tr>\n",
       "      <th>0</th>\n",
       "      <td>sexy</td>\n",
       "      <td>low</td>\n",
       "      <td>4.6</td>\n",
       "      <td>m</td>\n",
       "      <td>summer</td>\n",
       "      <td>o-neck</td>\n",
       "      <td>sleevless</td>\n",
       "      <td>empire</td>\n",
       "      <td>NaN</td>\n",
       "      <td>chiffon</td>\n",
       "      <td>ruffles</td>\n",
       "      <td>animal</td>\n",
       "      <td>1</td>\n",
       "    </tr>\n",
       "    <tr>\n",
       "      <th>1</th>\n",
       "      <td>casual</td>\n",
       "      <td>low</td>\n",
       "      <td>0.0</td>\n",
       "      <td>l</td>\n",
       "      <td>summer</td>\n",
       "      <td>o-neck</td>\n",
       "      <td>petal</td>\n",
       "      <td>natural</td>\n",
       "      <td>microfiber</td>\n",
       "      <td>NaN</td>\n",
       "      <td>ruffles</td>\n",
       "      <td>animal</td>\n",
       "      <td>0</td>\n",
       "    </tr>\n",
       "    <tr>\n",
       "      <th>2</th>\n",
       "      <td>vintage</td>\n",
       "      <td>high</td>\n",
       "      <td>0.0</td>\n",
       "      <td>l</td>\n",
       "      <td>autumn</td>\n",
       "      <td>o-neck</td>\n",
       "      <td>full</td>\n",
       "      <td>natural</td>\n",
       "      <td>polyster</td>\n",
       "      <td>NaN</td>\n",
       "      <td>NaN</td>\n",
       "      <td>print</td>\n",
       "      <td>0</td>\n",
       "    </tr>\n",
       "    <tr>\n",
       "      <th>3</th>\n",
       "      <td>brief</td>\n",
       "      <td>average</td>\n",
       "      <td>4.6</td>\n",
       "      <td>l</td>\n",
       "      <td>spring</td>\n",
       "      <td>o-neck</td>\n",
       "      <td>full</td>\n",
       "      <td>natural</td>\n",
       "      <td>silk</td>\n",
       "      <td>chiffon</td>\n",
       "      <td>embroidary</td>\n",
       "      <td>print</td>\n",
       "      <td>1</td>\n",
       "    </tr>\n",
       "    <tr>\n",
       "      <th>4</th>\n",
       "      <td>cute</td>\n",
       "      <td>low</td>\n",
       "      <td>4.5</td>\n",
       "      <td>m</td>\n",
       "      <td>summer</td>\n",
       "      <td>o-neck</td>\n",
       "      <td>butterfly</td>\n",
       "      <td>natural</td>\n",
       "      <td>chiffonfabric</td>\n",
       "      <td>chiffon</td>\n",
       "      <td>bow</td>\n",
       "      <td>dot</td>\n",
       "      <td>0</td>\n",
       "    </tr>\n",
       "  </tbody>\n",
       "</table>\n",
       "</div>"
      ],
      "text/plain": [
       "     Style    Price  Rating Size  Season NeckLine SleeveLength waiseline  \\\n",
       "0     sexy      low     4.6    m  summer   o-neck    sleevless    empire   \n",
       "1   casual      low     0.0    l  summer   o-neck        petal   natural   \n",
       "2  vintage     high     0.0    l  autumn   o-neck         full   natural   \n",
       "3    brief  average     4.6    l  spring   o-neck         full   natural   \n",
       "4     cute      low     4.5    m  summer   o-neck    butterfly   natural   \n",
       "\n",
       "        Material FabricType  Decoration Pattern Type  Recommendation  \n",
       "0            NaN    chiffon     ruffles       animal               1  \n",
       "1     microfiber        NaN     ruffles       animal               0  \n",
       "2       polyster        NaN         NaN        print               0  \n",
       "3           silk    chiffon  embroidary        print               1  \n",
       "4  chiffonfabric    chiffon         bow          dot               0  "
      ]
     },
     "execution_count": 8,
     "metadata": {},
     "output_type": "execute_result"
    }
   ],
   "source": [
    "#let's clean the Season attribute\n",
    "df[\"Season\"] = df[\"Season\"].str.replace(\"automn\", \"autumn\")\n",
    "df.head()"
   ]
  },
  {
   "cell_type": "code",
   "execution_count": 9,
   "id": "80353a3b",
   "metadata": {},
   "outputs": [],
   "source": [
    "#Let's clean the Size by replacing the small with s\n",
    "df[\"Size\"] = df[\"Size\"].str.replace(\"small\", \"s\")\n",
    "df[\"FabricType\"].value_counts()\n",
    "#Replace shiffon with chiffon\n",
    "df[\"FabricType\"] = df[\"FabricType\"].str.replace(\"shiffon\", \"chiffon\")\n",
    "#Cleacm Sleevlength attribute\n",
    "df[\"SleeveLength\"] = df[\"SleeveLength\"].str.replace(\"^(sl).+\", \"sleeveless\", regex=True)\n",
    "df[\"SleeveLength\"] = df[\"SleeveLength\"].str.replace(\"^(thr).+\", \"threequarter\", regex=True)"
   ]
  },
  {
   "cell_type": "markdown",
   "id": "7e8985fd",
   "metadata": {},
   "source": [
    "After doing cleaning for the data we can notice that, the following attributes/features have a lot of null values:\n",
    "Material, FabricType, Decoration and Pattern Type so let's drop them before applying any ML algorithm"
   ]
  },
  {
   "cell_type": "code",
   "execution_count": 10,
   "id": "b135ae31",
   "metadata": {},
   "outputs": [],
   "source": [
    "#df = df.drop([\"Material\", \"FabricType\", \"Decoration\", \"Pattern Type\"], axis=1)\n"
   ]
  },
  {
   "cell_type": "code",
   "execution_count": 11,
   "id": "d75582c4",
   "metadata": {},
   "outputs": [
    {
     "name": "stdout",
     "output_type": "stream",
     "text": [
      "<class 'pandas.core.frame.DataFrame'>\n",
      "RangeIndex: 500 entries, 0 to 499\n",
      "Data columns (total 13 columns):\n",
      " #   Column          Non-Null Count  Dtype  \n",
      "---  ------          --------------  -----  \n",
      " 0   Style           500 non-null    object \n",
      " 1   Price           498 non-null    object \n",
      " 2   Rating          500 non-null    float64\n",
      " 3   Size            500 non-null    object \n",
      " 4   Season          498 non-null    object \n",
      " 5   NeckLine        497 non-null    object \n",
      " 6   SleeveLength    498 non-null    object \n",
      " 7   waiseline       413 non-null    object \n",
      " 8   Material        372 non-null    object \n",
      " 9   FabricType      234 non-null    object \n",
      " 10  Decoration      264 non-null    object \n",
      " 11  Pattern Type    391 non-null    object \n",
      " 12  Recommendation  500 non-null    int64  \n",
      "dtypes: float64(1), int64(1), object(11)\n",
      "memory usage: 50.9+ KB\n"
     ]
    }
   ],
   "source": [
    "df.info()"
   ]
  },
  {
   "cell_type": "code",
   "execution_count": 12,
   "id": "42a53d50",
   "metadata": {},
   "outputs": [
    {
     "data": {
      "text/plain": [
       "casual      232\n",
       "sexy         76\n",
       "party        51\n",
       "cute         45\n",
       "vintage      25\n",
       "bohemian     24\n",
       "brief        18\n",
       "work         17\n",
       "novelty       8\n",
       "flare         2\n",
       "ol            1\n",
       "fashion       1\n",
       "Name: Style, dtype: int64"
      ]
     },
     "execution_count": 12,
     "metadata": {},
     "output_type": "execute_result"
    }
   ],
   "source": [
    "df[\"Style\"].value_counts()"
   ]
  },
  {
   "cell_type": "code",
   "execution_count": 13,
   "id": "d31477d6",
   "metadata": {},
   "outputs": [
    {
     "data": {
      "text/plain": [
       "casual      232\n",
       "sexy         76\n",
       "party        51\n",
       "cute         45\n",
       "vintage      25\n",
       "bohemian     24\n",
       "brief        18\n",
       "work         17\n",
       "other        12\n",
       "Name: Style, dtype: int64"
      ]
     },
     "execution_count": 13,
     "metadata": {},
     "output_type": "execute_result"
    }
   ],
   "source": [
    "#Let's group all the Styles under 17 into new group \"other\"\n",
    "df[\"Style\"] = df[\"Style\"].replace([\"novelty\",\"flare\", \"ol\", \"fashion\"], \"other\")\n",
    "df[\"Style\"].value_counts()"
   ]
  },
  {
   "cell_type": "code",
   "execution_count": 14,
   "id": "bb485273",
   "metadata": {},
   "outputs": [
    {
     "data": {
      "text/plain": [
       "o-neck             271\n",
       "v-neck             124\n",
       "slash-neck          25\n",
       "boat-neck           19\n",
       "sweetheart          15\n",
       "turndowncollor      13\n",
       "bowneck             10\n",
       "peterpan-collor      6\n",
       "sqare-collor         5\n",
       "open                 3\n",
       "scoop                2\n",
       "ruffled              1\n",
       "mandarin-collor      1\n",
       "halter               1\n",
       "backless             1\n",
       "Name: NeckLine, dtype: int64"
      ]
     },
     "execution_count": 14,
     "metadata": {},
     "output_type": "execute_result"
    }
   ],
   "source": [
    "df[\"NeckLine\"].value_counts()"
   ]
  },
  {
   "cell_type": "code",
   "execution_count": 15,
   "id": "7085bd64",
   "metadata": {},
   "outputs": [],
   "source": [
    "#let's do the same for Neckline by grouping all values under 10 into new group \"other\"\n",
    "df[\"NeckLine\"] = df[\"NeckLine\"].replace([\"peterpan-collor\", \"spare-collor\", \n",
    "                                         \"open\", \"scoop\", \"ruffled\", \"mandarin-collor\", \n",
    "                                         \"halter\", \"backless\"], \"other\")"
   ]
  },
  {
   "cell_type": "code",
   "execution_count": 16,
   "id": "8940448b",
   "metadata": {},
   "outputs": [
    {
     "data": {
      "text/plain": [
       "sleeveless        232\n",
       "full               97\n",
       "short              96\n",
       "halfsleeve         35\n",
       "threequarter       28\n",
       "capsleeves          3\n",
       "cap-sleeves         2\n",
       "petal               1\n",
       "butterfly           1\n",
       "turndowncollor      1\n",
       "half                1\n",
       "urndowncollor       1\n",
       "Name: SleeveLength, dtype: int64"
      ]
     },
     "execution_count": 16,
     "metadata": {},
     "output_type": "execute_result"
    }
   ],
   "source": [
    "df[\"SleeveLength\"].value_counts()"
   ]
  },
  {
   "cell_type": "code",
   "execution_count": 17,
   "id": "0de54243",
   "metadata": {},
   "outputs": [
    {
     "data": {
      "text/plain": [
       "natural     304\n",
       "empire      104\n",
       "dropped       4\n",
       "princess      1\n",
       "Name: waiseline, dtype: int64"
      ]
     },
     "execution_count": 17,
     "metadata": {},
     "output_type": "execute_result"
    }
   ],
   "source": [
    "#let's do the same for Sleevelength attribute by grouping all values under 28 into new group \"other\"\n",
    "df[\"SleeveLength\"] = df[\"SleeveLength\"].replace([\"capsleeves\", \"cap-sleeves\", \"petal\", \n",
    "                                                 \"butterfly\", \"turndowncollor\",\n",
    "                                                \"half\", \"urndowncollor\"], \"other\")\n",
    "df[\"SleeveLength\"].value_counts()\n",
    "df[\"waiseline\"].value_counts()"
   ]
  },
  {
   "cell_type": "markdown",
   "id": "d1a8ea46",
   "metadata": {},
   "source": [
    "Finally before applying any ML algorithms there is one attribute which is waistline contians 4 values with a majority for 2 categories so let's drop the the minority values to see the final shape of our dataset"
   ]
  },
  {
   "cell_type": "code",
   "execution_count": 18,
   "id": "9c578ae4",
   "metadata": {},
   "outputs": [
    {
     "name": "stdout",
     "output_type": "stream",
     "text": [
      "<class 'pandas.core.frame.DataFrame'>\n",
      "Int64Index: 495 entries, 0 to 499\n",
      "Data columns (total 13 columns):\n",
      " #   Column          Non-Null Count  Dtype  \n",
      "---  ------          --------------  -----  \n",
      " 0   Style           495 non-null    object \n",
      " 1   Price           493 non-null    object \n",
      " 2   Rating          495 non-null    float64\n",
      " 3   Size            495 non-null    object \n",
      " 4   Season          493 non-null    object \n",
      " 5   NeckLine        492 non-null    object \n",
      " 6   SleeveLength    494 non-null    object \n",
      " 7   waiseline       408 non-null    object \n",
      " 8   Material        369 non-null    object \n",
      " 9   FabricType      233 non-null    object \n",
      " 10  Decoration      262 non-null    object \n",
      " 11  Pattern Type    389 non-null    object \n",
      " 12  Recommendation  495 non-null    int64  \n",
      "dtypes: float64(1), int64(1), object(11)\n",
      "memory usage: 54.1+ KB\n"
     ]
    }
   ],
   "source": [
    "df = df[(df[\"waiseline\"] != 'dropped') & (df[\"waiseline\"] != 'princess')]\n",
    "df.info()"
   ]
  },
  {
   "cell_type": "code",
   "execution_count": 19,
   "id": "439dfa62",
   "metadata": {},
   "outputs": [
    {
     "name": "stdout",
     "output_type": "stream",
     "text": [
      "<class 'pandas.core.frame.DataFrame'>\n",
      "Int64Index: 99 entries, 3 to 499\n",
      "Data columns (total 12 columns):\n",
      " #   Column        Non-Null Count  Dtype  \n",
      "---  ------        --------------  -----  \n",
      " 0   Style         99 non-null     object \n",
      " 1   Price         99 non-null     object \n",
      " 2   Rating        99 non-null     float64\n",
      " 3   Size          99 non-null     object \n",
      " 4   Season        99 non-null     object \n",
      " 5   NeckLine      99 non-null     object \n",
      " 6   SleeveLength  99 non-null     object \n",
      " 7   waiseline     99 non-null     object \n",
      " 8   Material      99 non-null     object \n",
      " 9   FabricType    99 non-null     object \n",
      " 10  Decoration    99 non-null     object \n",
      " 11  Pattern Type  99 non-null     object \n",
      "dtypes: float64(1), object(11)\n",
      "memory usage: 10.1+ KB\n"
     ]
    }
   ],
   "source": [
    "#drop all null values\n",
    "df = df.dropna()\n",
    "#df = df.drop(\"waiseline\", axis=1)\n",
    "#df = df.drop(\"SleeveLength\", axis=1)\n",
    "data, target = df.drop(\"Recommendation\", axis=1), df[\"Recommendation\"]\n",
    "data.info()"
   ]
  },
  {
   "cell_type": "markdown",
   "id": "3f0d42ed",
   "metadata": {},
   "source": [
    "Now we have final dataset ready, just we need to one hot encoding for all categorical data and standardise the rating attribute"
   ]
  },
  {
   "cell_type": "code",
   "execution_count": 20,
   "id": "8a0e8313",
   "metadata": {},
   "outputs": [
    {
     "data": {
      "text/plain": [
       "{'fit_time': array([0.01996541, 0.02002215, 0.01907873, 0.02081585, 0.02012086]),\n",
       " 'score_time': array([0., 0., 0., 0., 0.]),\n",
       " 'test_score': array([0.75      , 0.6       , 0.65      , 0.6       , 0.63157895])}"
      ]
     },
     "execution_count": 20,
     "metadata": {},
     "output_type": "execute_result"
    }
   ],
   "source": [
    "from sklearn.preprocessing import StandardScaler, OneHotEncoder\n",
    "from sklearn.pipeline import make_pipeline\n",
    "from sklearn.linear_model import LogisticRegression\n",
    "from sklearn.model_selection import cross_validate\n",
    "from sklearn.compose import make_column_selector as selector\n",
    "from sklearn.compose import ColumnTransformer\n",
    "from sklearn.tree import DecisionTreeClassifier\n",
    "from sklearn.neighbors import KNeighborsClassifier\n",
    "from sklearn.ensemble import RandomForestClassifier\n",
    "from sklearn.svm import SVC\n",
    "\n",
    "numerical_cols = selector(dtype_exclude=object)\n",
    "categorical_cols = selector(dtype_include=object)\n",
    "\n",
    "numerical_data = numerical_cols(data)\n",
    "categorical_data = categorical_cols(data)\n",
    "numerical_preprocessor = StandardScaler()\n",
    "categorical_preprocessor = OneHotEncoder(handle_unknown=\"ignore\")\n",
    "\n",
    "preprocessor = ColumnTransformer([('standard_scaler', numerical_preprocessor, numerical_data),\n",
    "                                 ('one_hot_encoder', categorical_preprocessor, categorical_data)])\n",
    "\n",
    "model = make_pipeline(preprocessor, LogisticRegression())\n",
    "cv_results = cross_validate(model, data, target)\n",
    "cv_results"
   ]
  },
  {
   "cell_type": "code",
   "execution_count": null,
   "id": "c6dc0ee0",
   "metadata": {},
   "outputs": [],
   "source": []
  },
  {
   "cell_type": "code",
   "execution_count": null,
   "id": "aab391d8",
   "metadata": {},
   "outputs": [],
   "source": []
  }
 ],
 "metadata": {
  "kernelspec": {
   "display_name": "Python 3 (ipykernel)",
   "language": "python",
   "name": "python3"
  },
  "language_info": {
   "codemirror_mode": {
    "name": "ipython",
    "version": 3
   },
   "file_extension": ".py",
   "mimetype": "text/x-python",
   "name": "python",
   "nbconvert_exporter": "python",
   "pygments_lexer": "ipython3",
   "version": "3.8.12"
  }
 },
 "nbformat": 4,
 "nbformat_minor": 5
}
